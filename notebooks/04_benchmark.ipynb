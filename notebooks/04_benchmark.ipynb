{
 "cells": [
  {
   "cell_type": "markdown",
   "id": "6893b5d2",
   "metadata": {},
   "source": [
    "## 1. Setup and Imports\n",
    "This section installs and imports required libraries, loads results, and prepares the combined dataframe."
   ]
  },
  {
   "cell_type": "code",
   "execution_count": 3,
   "id": "5ca9c7da",
   "metadata": {},
   "outputs": [
    {
     "name": "stdout",
     "output_type": "stream",
     "text": [
      "Rows per model:\n"
     ]
    },
    {
     "data": {
      "text/plain": [
       "model\n",
       "PyAnnote       60\n",
       "Simple         60\n",
       "SpeechBrain    60\n",
       "dtype: int64"
      ]
     },
     "metadata": {},
     "output_type": "display_data"
    },
    {
     "data": {
      "text/html": [
       "<div>\n",
       "<style scoped>\n",
       "    .dataframe tbody tr th:only-of-type {\n",
       "        vertical-align: middle;\n",
       "    }\n",
       "\n",
       "    .dataframe tbody tr th {\n",
       "        vertical-align: top;\n",
       "    }\n",
       "\n",
       "    .dataframe thead th {\n",
       "        text-align: right;\n",
       "    }\n",
       "</style>\n",
       "<table border=\"1\" class=\"dataframe\">\n",
       "  <thead>\n",
       "    <tr style=\"text-align: right;\">\n",
       "      <th></th>\n",
       "      <th>audio</th>\n",
       "      <th>language</th>\n",
       "      <th>true_speakers</th>\n",
       "      <th>pred_speakers</th>\n",
       "      <th>runtime_sec</th>\n",
       "      <th>model</th>\n",
       "    </tr>\n",
       "  </thead>\n",
       "  <tbody>\n",
       "    <tr>\n",
       "      <th>0</th>\n",
       "      <td>C:\\Users\\AboMajed\\audio-seg\\Audio-AI\\audios-wa...</td>\n",
       "      <td>ar</td>\n",
       "      <td>3</td>\n",
       "      <td>3</td>\n",
       "      <td>16.593641</td>\n",
       "      <td>PyAnnote</td>\n",
       "    </tr>\n",
       "    <tr>\n",
       "      <th>1</th>\n",
       "      <td>C:\\Users\\AboMajed\\audio-seg\\Audio-AI\\audios-wa...</td>\n",
       "      <td>en</td>\n",
       "      <td>2</td>\n",
       "      <td>2</td>\n",
       "      <td>13.713065</td>\n",
       "      <td>PyAnnote</td>\n",
       "    </tr>\n",
       "    <tr>\n",
       "      <th>2</th>\n",
       "      <td>C:\\Users\\AboMajed\\audio-seg\\Audio-AI\\audios-wa...</td>\n",
       "      <td>ar</td>\n",
       "      <td>2</td>\n",
       "      <td>2</td>\n",
       "      <td>9.936236</td>\n",
       "      <td>PyAnnote</td>\n",
       "    </tr>\n",
       "    <tr>\n",
       "      <th>3</th>\n",
       "      <td>C:\\Users\\AboMajed\\audio-seg\\Audio-AI\\audios-wa...</td>\n",
       "      <td>ar</td>\n",
       "      <td>3</td>\n",
       "      <td>3</td>\n",
       "      <td>11.928650</td>\n",
       "      <td>PyAnnote</td>\n",
       "    </tr>\n",
       "    <tr>\n",
       "      <th>4</th>\n",
       "      <td>C:\\Users\\AboMajed\\audio-seg\\Audio-AI\\audios-wa...</td>\n",
       "      <td>en</td>\n",
       "      <td>2</td>\n",
       "      <td>3</td>\n",
       "      <td>13.806100</td>\n",
       "      <td>PyAnnote</td>\n",
       "    </tr>\n",
       "  </tbody>\n",
       "</table>\n",
       "</div>"
      ],
      "text/plain": [
       "                                               audio language  true_speakers  \\\n",
       "0  C:\\Users\\AboMajed\\audio-seg\\Audio-AI\\audios-wa...       ar              3   \n",
       "1  C:\\Users\\AboMajed\\audio-seg\\Audio-AI\\audios-wa...       en              2   \n",
       "2  C:\\Users\\AboMajed\\audio-seg\\Audio-AI\\audios-wa...       ar              2   \n",
       "3  C:\\Users\\AboMajed\\audio-seg\\Audio-AI\\audios-wa...       ar              3   \n",
       "4  C:\\Users\\AboMajed\\audio-seg\\Audio-AI\\audios-wa...       en              2   \n",
       "\n",
       "   pred_speakers  runtime_sec     model  \n",
       "0              3    16.593641  PyAnnote  \n",
       "1              2    13.713065  PyAnnote  \n",
       "2              2     9.936236  PyAnnote  \n",
       "3              3    11.928650  PyAnnote  \n",
       "4              3    13.806100  PyAnnote  "
      ]
     },
     "execution_count": 3,
     "metadata": {},
     "output_type": "execute_result"
    }
   ],
   "source": [
    "import pandas as pd\n",
    "from pathlib import Path\n",
    "\n",
    "ROOT = Path.cwd().parents[0] if Path.cwd().name == \"notebooks\" else Path.cwd()\n",
    "R = ROOT / \"results\"\n",
    "\n",
    "paths = {\n",
    "    \"PyAnnote\": R / \"pyannote_predictions.csv\",\n",
    "    \"SpeechBrain\": R / \"speechbrain_predictions.csv\",\n",
    "    \"Simple\": R / \"simple_predictions.csv\",\n",
    "}\n",
    "\n",
    "dfs = []\n",
    "for name, p in paths.items():\n",
    "    dfp = pd.read_csv(p).copy()\n",
    "    dfp[\"model\"] = name\n",
    "    dfs.append(dfp)\n",
    "\n",
    "all_df = pd.concat(dfs, ignore_index=True)\n",
    "print(\"Rows per model:\")\n",
    "display(all_df.groupby(\"model\").size())\n",
    "all_df.head()\n"
   ]
  },
  {
   "cell_type": "markdown",
   "id": "7d0974cc",
   "metadata": {},
   "source": [
    "## 2. Overall Metrics by Model\n",
    "This section computes and displays overall metrics for each model."
   ]
  },
  {
   "cell_type": "code",
   "execution_count": 5,
   "id": "13e98cfd",
   "metadata": {},
   "outputs": [
    {
     "name": "stdout",
     "output_type": "stream",
     "text": [
      "=== Overall metrics by model ===\n"
     ]
    },
    {
     "data": {
      "text/html": [
       "<div>\n",
       "<style scoped>\n",
       "    .dataframe tbody tr th:only-of-type {\n",
       "        vertical-align: middle;\n",
       "    }\n",
       "\n",
       "    .dataframe tbody tr th {\n",
       "        vertical-align: top;\n",
       "    }\n",
       "\n",
       "    .dataframe thead th {\n",
       "        text-align: right;\n",
       "    }\n",
       "</style>\n",
       "<table border=\"1\" class=\"dataframe\">\n",
       "  <thead>\n",
       "    <tr style=\"text-align: right;\">\n",
       "      <th></th>\n",
       "      <th>model</th>\n",
       "      <th>accuracy</th>\n",
       "      <th>precision_macro</th>\n",
       "      <th>recall_macro</th>\n",
       "      <th>f1_macro</th>\n",
       "    </tr>\n",
       "  </thead>\n",
       "  <tbody>\n",
       "    <tr>\n",
       "      <th>0</th>\n",
       "      <td>PyAnnote</td>\n",
       "      <td>0.866667</td>\n",
       "      <td>0.675134</td>\n",
       "      <td>0.65</td>\n",
       "      <td>0.660578</td>\n",
       "    </tr>\n",
       "    <tr>\n",
       "      <th>1</th>\n",
       "      <td>SpeechBrain</td>\n",
       "      <td>0.400000</td>\n",
       "      <td>0.301136</td>\n",
       "      <td>0.40</td>\n",
       "      <td>0.322917</td>\n",
       "    </tr>\n",
       "    <tr>\n",
       "      <th>2</th>\n",
       "      <td>Simple</td>\n",
       "      <td>0.350000</td>\n",
       "      <td>0.446328</td>\n",
       "      <td>0.35</td>\n",
       "      <td>0.200522</td>\n",
       "    </tr>\n",
       "  </tbody>\n",
       "</table>\n",
       "</div>"
      ],
      "text/plain": [
       "         model  accuracy  precision_macro  recall_macro  f1_macro\n",
       "0     PyAnnote  0.866667         0.675134          0.65  0.660578\n",
       "1  SpeechBrain  0.400000         0.301136          0.40  0.322917\n",
       "2       Simple  0.350000         0.446328          0.35  0.200522"
      ]
     },
     "metadata": {},
     "output_type": "display_data"
    }
   ],
   "source": [
    "from sklearn.metrics import accuracy_score, precision_score, recall_score, f1_score\n",
    "\n",
    "rows = []\n",
    "for model, g in all_df.groupby(\"model\"):\n",
    "    y_true = g[\"true_speakers\"].astype(int)\n",
    "    y_pred = g[\"pred_speakers\"].fillna(-1).astype(int)\n",
    "    rows.append({\n",
    "        \"model\": model,\n",
    "        \"accuracy\": accuracy_score(y_true, y_pred),\n",
    "        \"precision_macro\": precision_score(y_true, y_pred, average=\"macro\", zero_division=0),\n",
    "        \"recall_macro\": recall_score(y_true, y_pred, average=\"macro\", zero_division=0),\n",
    "        \"f1_macro\": f1_score(y_true, y_pred, average=\"macro\", zero_division=0),\n",
    "    })\n",
    "\n",
    "summary = pd.DataFrame(rows).sort_values(\"f1_macro\", ascending=False).reset_index(drop=True)\n",
    "print(\"=== Overall metrics by model ===\")\n",
    "display(summary)\n",
    "\n",
    "# optional: save summary\n",
    "(summary).to_csv(R / \"benchmark_summary_overall.csv\", index=False)\n"
   ]
  },
  {
   "cell_type": "markdown",
   "id": "32e4995f",
   "metadata": {},
   "source": [
    "## 3. Per-Language Metrics by Model\n",
    "This section computes and displays metrics for each model, broken down by language."
   ]
  },
  {
   "cell_type": "code",
   "execution_count": 6,
   "id": "4f5fadaa",
   "metadata": {},
   "outputs": [
    {
     "name": "stdout",
     "output_type": "stream",
     "text": [
      "=== Per-language metrics by model ===\n"
     ]
    },
    {
     "data": {
      "text/html": [
       "<div>\n",
       "<style scoped>\n",
       "    .dataframe tbody tr th:only-of-type {\n",
       "        vertical-align: middle;\n",
       "    }\n",
       "\n",
       "    .dataframe tbody tr th {\n",
       "        vertical-align: top;\n",
       "    }\n",
       "\n",
       "    .dataframe thead th {\n",
       "        text-align: right;\n",
       "    }\n",
       "</style>\n",
       "<table border=\"1\" class=\"dataframe\">\n",
       "  <thead>\n",
       "    <tr style=\"text-align: right;\">\n",
       "      <th></th>\n",
       "      <th>model</th>\n",
       "      <th>language</th>\n",
       "      <th>n</th>\n",
       "      <th>accuracy</th>\n",
       "      <th>precision_macro</th>\n",
       "      <th>recall_macro</th>\n",
       "      <th>f1_macro</th>\n",
       "      <th>avg_runtime_sec</th>\n",
       "    </tr>\n",
       "  </thead>\n",
       "  <tbody>\n",
       "    <tr>\n",
       "      <th>0</th>\n",
       "      <td>PyAnnote</td>\n",
       "      <td>ar</td>\n",
       "      <td>30</td>\n",
       "      <td>0.866667</td>\n",
       "      <td>0.692308</td>\n",
       "      <td>0.650000</td>\n",
       "      <td>0.660116</td>\n",
       "      <td>11.585018</td>\n",
       "    </tr>\n",
       "    <tr>\n",
       "      <th>1</th>\n",
       "      <td>SpeechBrain</td>\n",
       "      <td>ar</td>\n",
       "      <td>30</td>\n",
       "      <td>0.333333</td>\n",
       "      <td>0.243386</td>\n",
       "      <td>0.333333</td>\n",
       "      <td>0.269383</td>\n",
       "      <td>21.853472</td>\n",
       "    </tr>\n",
       "    <tr>\n",
       "      <th>2</th>\n",
       "      <td>Simple</td>\n",
       "      <td>ar</td>\n",
       "      <td>30</td>\n",
       "      <td>0.333333</td>\n",
       "      <td>0.111111</td>\n",
       "      <td>0.333333</td>\n",
       "      <td>0.166667</td>\n",
       "      <td>83.466942</td>\n",
       "    </tr>\n",
       "    <tr>\n",
       "      <th>3</th>\n",
       "      <td>PyAnnote</td>\n",
       "      <td>en</td>\n",
       "      <td>30</td>\n",
       "      <td>0.866667</td>\n",
       "      <td>0.672222</td>\n",
       "      <td>0.650000</td>\n",
       "      <td>0.660526</td>\n",
       "      <td>12.499233</td>\n",
       "    </tr>\n",
       "    <tr>\n",
       "      <th>4</th>\n",
       "      <td>SpeechBrain</td>\n",
       "      <td>en</td>\n",
       "      <td>30</td>\n",
       "      <td>0.466667</td>\n",
       "      <td>0.368530</td>\n",
       "      <td>0.466667</td>\n",
       "      <td>0.377897</td>\n",
       "      <td>22.635360</td>\n",
       "    </tr>\n",
       "    <tr>\n",
       "      <th>5</th>\n",
       "      <td>Simple</td>\n",
       "      <td>en</td>\n",
       "      <td>30</td>\n",
       "      <td>0.366667</td>\n",
       "      <td>0.448276</td>\n",
       "      <td>0.366667</td>\n",
       "      <td>0.231546</td>\n",
       "      <td>115.059732</td>\n",
       "    </tr>\n",
       "  </tbody>\n",
       "</table>\n",
       "</div>"
      ],
      "text/plain": [
       "         model language   n  accuracy  precision_macro  recall_macro  \\\n",
       "0     PyAnnote       ar  30  0.866667         0.692308      0.650000   \n",
       "1  SpeechBrain       ar  30  0.333333         0.243386      0.333333   \n",
       "2       Simple       ar  30  0.333333         0.111111      0.333333   \n",
       "3     PyAnnote       en  30  0.866667         0.672222      0.650000   \n",
       "4  SpeechBrain       en  30  0.466667         0.368530      0.466667   \n",
       "5       Simple       en  30  0.366667         0.448276      0.366667   \n",
       "\n",
       "   f1_macro  avg_runtime_sec  \n",
       "0  0.660116        11.585018  \n",
       "1  0.269383        21.853472  \n",
       "2  0.166667        83.466942  \n",
       "3  0.660526        12.499233  \n",
       "4  0.377897        22.635360  \n",
       "5  0.231546       115.059732  "
      ]
     },
     "metadata": {},
     "output_type": "display_data"
    }
   ],
   "source": [
    "rows = []\n",
    "for (model, lang), g in all_df.groupby([\"model\",\"language\"]):\n",
    "    y_true = g[\"true_speakers\"].astype(int)\n",
    "    y_pred = g[\"pred_speakers\"].fillna(-1).astype(int)\n",
    "    rows.append({\n",
    "        \"model\": model,\n",
    "        \"language\": lang,\n",
    "        \"n\": len(g),\n",
    "        \"accuracy\": accuracy_score(y_true, y_pred),\n",
    "        \"precision_macro\": precision_score(y_true, y_pred, average=\"macro\", zero_division=0),\n",
    "        \"recall_macro\": recall_score(y_true, y_pred, average=\"macro\", zero_division=0),\n",
    "        \"f1_macro\": f1_score(y_true, y_pred, average=\"macro\", zero_division=0),\n",
    "        \"avg_runtime_sec\": g[\"runtime_sec\"].mean(),\n",
    "    })\n",
    "\n",
    "by_lang = pd.DataFrame(rows).sort_values([\"language\",\"f1_macro\"], ascending=[True, False]).reset_index(drop=True)\n",
    "print(\"=== Per-language metrics by model ===\")\n",
    "display(by_lang)\n",
    "\n",
    "# optional: save\n",
    "by_lang.to_csv(R / \"benchmark_by_language.csv\", index=False)\n"
   ]
  },
  {
   "cell_type": "markdown",
   "id": "ffe24326",
   "metadata": {},
   "source": [
    "## 4. Visualization\n",
    "This section visualizes the metrics using bar plots."
   ]
  },
  {
   "cell_type": "code",
   "execution_count": 9,
   "id": "945631a2",
   "metadata": {},
   "outputs": [
    {
     "data": {
      "image/png": "[encoded data removed]",
      "text/plain": [
       "<Figure size 600x400 with 1 Axes>"
      ]
     },
     "metadata": {},
     "output_type": "display_data"
    },
    {
     "data": {
      "image/png": "[encoded data removed]",
      "text/plain": [
       "<Figure size 600x400 with 1 Axes>"
      ]
     },
     "metadata": {},
     "output_type": "display_data"
    },
    {
     "data": {
      "image/png": "[encoded data removed]",
      "text/plain": [
       "<Figure size 700x400 with 1 Axes>"
      ]
     },
     "metadata": {},
     "output_type": "display_data"
    }
   ],
   "source": [
    "import seaborn as sns\n",
    "import matplotlib.pyplot as plt\n",
    "\n",
    "plt.figure(figsize=(6,4))\n",
    "sns.barplot(data=summary, x=\"model\", y=\"f1_macro\")\n",
    "plt.ylim(0,1); plt.ylabel(\"Macro F1\"); plt.xlabel(\"\"); plt.title(\"Macro F1 by Model\")\n",
    "plt.show()\n",
    "\n",
    "plt.figure(figsize=(6,4))\n",
    "sns.barplot(data=summary, x=\"model\", y=\"accuracy\")\n",
    "plt.ylim(0,1); plt.ylabel(\"Accuracy\"); plt.xlabel(\"\"); plt.title(\"Accuracy by Model\")\n",
    "plt.show()\n",
    "\n",
    "plt.figure(figsize=(7,4))\n",
    "sns.barplot(data=by_lang, x=\"language\", y=\"f1_macro\", hue=\"model\")\n",
    "plt.ylim(0,1); plt.ylabel(\"Macro F1\"); plt.title(\"Macro F1 by Language\"); plt.show()\n"
   ]
  }
 ],
 "metadata": {
  "kernelspec": {
   "display_name": "Python (audio-ai)",
   "language": "python",
   "name": "audio-ai"
  },
  "language_info": {
   "codemirror_mode": {
    "name": "ipython",
    "version": 3
   },
   "file_extension": ".py",
   "mimetype": "text/x-python",
   "name": "python",
   "nbconvert_exporter": "python",
   "pygments_lexer": "ipython3",
   "version": "3.9.23"
  }
 },
 "nbformat": 4,
 "nbformat_minor": 5
}
